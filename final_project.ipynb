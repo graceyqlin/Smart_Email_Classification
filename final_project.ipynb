{
 "cells": [
  {
   "cell_type": "markdown",
   "metadata": {},
   "source": [
    "# Final Project: Smart Folders for Work Email\n",
    "\n",
    "April 2018\n",
    "\n",
    "Group Members: Danny, Grace, Rutika, Adarsh"
   ]
  },
  {
   "cell_type": "markdown",
   "metadata": {},
   "source": [
    "In this notebook we explore a data set of emails provided in a [Kaggle data set](https://www.kaggle.com/wcukierski/enron-email-dataset) by Enron Corp. This data set provides a set of about 500K employee emails, which include several fields including a `folder` field.\n",
    "\n",
    "The goal is to build machine learning models that help users organize their email for more efficient processing. More detail on the motivation and goals of this analysis [can be found here](https://docs.google.com/presentation/d/1r-nWFn-2o1xrc-Ohz-S-30QQYIkEBCyuGOw891gefMY/edit?usp=sharing). We'll split the analysis into two parts:\n",
    "\n",
    "1. In the first section, we'll attempt to use existing folders created by users. We'll train a model for each user that will accept new emails and predict the folder which the user would have sorted it to. This is a supervised learning problem, where the label for each data point is the folder to which it belongs.\n",
    "2. In the second section, we'll instead try to organize folders in a company-wide fashion. This will be an unsupervised problem, where we attempt to organize folders into similar folders without a labeled data set."
   ]
  },
  {
   "cell_type": "code",
   "execution_count": 10,
   "metadata": {},
   "outputs": [],
   "source": [
    "# load libraries\n",
    "%matplotlib inline\n",
    "\n",
    "import re\n",
    "import pandas\n",
    "import gensim\n",
    "import matplotlib.pyplot as plt\n",
    "import numpy as np\n",
    "import scipy\n",
    "import sys\n",
    "\n",
    "from nltk.tokenize import RegexpTokenizer\n",
    "from stop_words import get_stop_words\n",
    "from nltk.stem.porter import PorterStemmer\n",
    "from collections import Counter\n",
    "from sklearn.utils import shuffle\n",
    "from sklearn.linear_model import LogisticRegression\n",
    "from sklearn.metrics import accuracy_score, f1_score\n",
    "from sklearn.model_selection import train_test_split\n",
    "from sklearn.naive_bayes import MultinomialNB\n",
    "from sklearn.feature_extraction.text import TfidfVectorizer, TfidfTransformer, CountVectorizer\n",
    "from gensim import corpora, models\n",
    "from __future__ import division"
   ]
  },
  {
   "cell_type": "markdown",
   "metadata": {},
   "source": [
    "# Load Data"
   ]
  },
  {
   "cell_type": "markdown",
   "metadata": {},
   "source": [
    "The data from the kaggle data set is provided as a CSV file. However, the file is poorly schematized, requiring file specific logic to parse out properties of the data set correctly."
   ]
  },
  {
   "cell_type": "code",
   "execution_count": 2,
   "metadata": {},
   "outputs": [
    {
     "name": "stdout",
     "output_type": "stream",
     "text": [
      "Number of emails in the dataset: 513954\n"
     ]
    }
   ],
   "source": [
    "enron_dataset_file_name = '../../source-data/emails.csv'\n",
    "\n",
    "with open(enron_dataset_file_name, 'rb') as f_in:\n",
    "    raw_email_info = f_in.read()\n",
    "\n",
    "    # Extract features we may potentially want to use (minus email body)\n",
    "    dates = re.findall(r'\\nDate: (.*)', raw_email_info)\n",
    "    sender_addresses = re.findall(r'\\nFrom: (.*)', raw_email_info)\n",
    "    recipients = re.findall(r'\\nTo: (.*)', raw_email_info)\n",
    "    subjects = re.findall(r'\\nSubject: (.*)', raw_email_info)\n",
    "    sender_names = re.findall(r'\\nX-From: (.*)', raw_email_info)\n",
    "    recipient_names = re.findall(r'\\nX-To: ([ A-Za-z]*)', raw_email_info)\n",
    "    ccs = re.findall(r'\\nX-cc: (.*)', raw_email_info)\n",
    "    bccs = re.findall(r'\\nX-bcc: (.*)', raw_email_info)\n",
    "    filename = re.findall(r'\\nX-FileName: (.*)', raw_email_info)\n",
    "    folders = re.findall(r'\"[a-zA-z-]*/(.*)/.*,\"Message-ID.*>', raw_email_info)\n",
    "\n",
    "    # Strip out all features to extract email body\n",
    "    raw_email_info = re.sub(r'\\nDate: (.*)', '', raw_email_info)\n",
    "    raw_email_info = re.sub(r'\\nFrom: (.*)', '', raw_email_info)\n",
    "    raw_email_info = re.sub(r'\\nTo: (.*)', '', raw_email_info)\n",
    "    raw_email_info = re.sub(r'\\nSubject: (.*)', '', raw_email_info)\n",
    "    raw_email_info = re.sub(r'\\nX-From: (.*)', '', raw_email_info)\n",
    "    raw_email_info = re.sub(r'\\nX-To: ([ A-Za-z]*)', '', raw_email_info)\n",
    "    raw_email_info = re.sub(r'\\nX-cc: (.*)', '', raw_email_info)\n",
    "    raw_email_info = re.sub(r'\\nX-bcc: (.*)', '', raw_email_info)\n",
    "    raw_email_info = re.sub(r'\\nX-Folder: (.*)', '', raw_email_info)\n",
    "\n",
    "    raw_email_info = re.sub(r'\"file\",\"message\"', '', raw_email_info)\n",
    "    raw_email_info = re.sub(r'\\nMime-Version: (.*)', '', raw_email_info)\n",
    "    raw_email_info = re.sub(r'\\nContent-Type: (.*)', '', raw_email_info)\n",
    "    raw_email_info = re.sub(r'\\nContent-Transfer-Encoding: (.*)', '', raw_email_info)\n",
    "    raw_email_info = re.sub(r'\\nX-Origin: (.*)', '', raw_email_info)\n",
    "    raw_email_info = re.sub(r'\\nX-FileName: (.*)', '', raw_email_info)\n",
    "    raw_email_info = re.sub(r'\".*Message-ID.*>', 'file_name_and_message_id', raw_email_info)\n",
    "\n",
    "    bodies = raw_email_info.split('file_name_and_message_id')[1:]\n",
    "\n",
    "    email_features = zip(dates,\n",
    "                         sender_addresses,\n",
    "                         recipients,\n",
    "                         subjects,\n",
    "                         sender_names,\n",
    "                         recipient_names,\n",
    "                         ccs,\n",
    "                         bccs,\n",
    "                         folders,\n",
    "                         filename,\n",
    "                         bodies)\n",
    "\n",
    "    # Stick features into a dataframe to make it easy to query and filter out data\n",
    "    email_data = pandas.DataFrame(email_features, columns=['date',\n",
    "                                                       'sender_address',\n",
    "                                                       'recipient',\n",
    "                                                       'subject',\n",
    "                                                       'sender_name',\n",
    "                                                       'recipient_name',\n",
    "                                                       'cc',\n",
    "                                                       'bcc',\n",
    "                                                       'folder',\n",
    "                                                       'filename',\n",
    "                                                       'body'])\n",
    "    \n",
    "    print 'Number of emails in the dataset: {}'.format(email_data.shape[0])"
   ]
  },
  {
   "cell_type": "markdown",
   "metadata": {},
   "source": [
    "# Text Data Cleansing"
   ]
  },
  {
   "cell_type": "markdown",
   "metadata": {},
   "source": [
    "Next, we apply some simple text cleaning to the data set. This includes removing links, stop words, and standardized casing."
   ]
  },
  {
   "cell_type": "code",
   "execution_count": 4,
   "metadata": {},
   "outputs": [
    {
     "name": "stderr",
     "output_type": "stream",
     "text": [
      "/Users/adarshramakrishnan/Documents/python_playground/leetcode_stuff/venv/lib/python2.7/site-packages/ipykernel_launcher.py:8: UnicodeWarning: Unicode equal comparison failed to convert both arguments to Unicode - interpreting them as being unequal\n",
      "  \n",
      "/Users/adarshramakrishnan/Documents/python_playground/leetcode_stuff/venv/lib/python2.7/site-packages/ipykernel_launcher.py:18: SettingWithCopyWarning: \n",
      "A value is trying to be set on a copy of a slice from a DataFrame.\n",
      "Try using .loc[row_indexer,col_indexer] = value instead\n",
      "\n",
      "See the caveats in the documentation: http://pandas.pydata.org/pandas-docs/stable/indexing.html#indexing-view-versus-copy\n"
     ]
    },
    {
     "data": {
      "text/html": [
       "<div>\n",
       "<style scoped>\n",
       "    .dataframe tbody tr th:only-of-type {\n",
       "        vertical-align: middle;\n",
       "    }\n",
       "\n",
       "    .dataframe tbody tr th {\n",
       "        vertical-align: top;\n",
       "    }\n",
       "\n",
       "    .dataframe thead th {\n",
       "        text-align: right;\n",
       "    }\n",
       "</style>\n",
       "<table border=\"1\" class=\"dataframe\">\n",
       "  <thead>\n",
       "    <tr style=\"text-align: right;\">\n",
       "      <th></th>\n",
       "      <th>date</th>\n",
       "      <th>sender_address</th>\n",
       "      <th>recipient</th>\n",
       "      <th>subject</th>\n",
       "      <th>sender_name</th>\n",
       "      <th>recipient_name</th>\n",
       "      <th>cc</th>\n",
       "      <th>bcc</th>\n",
       "      <th>folder</th>\n",
       "      <th>filename</th>\n",
       "      <th>body</th>\n",
       "    </tr>\n",
       "  </thead>\n",
       "  <tbody>\n",
       "    <tr>\n",
       "      <th>1230</th>\n",
       "      <td>Tue, 24 Oct 2000 05:16:00 -0700 (PDT)</td>\n",
       "      <td>phillip.allen@enron.com</td>\n",
       "      <td>Cheryl Wilchynski/HR/Corp/Enron@ENRON, Cindy R...</td>\n",
       "      <td>\"\"Save the Date\"\" - Associate / Analyst Program</td>\n",
       "      <td>Outlook-Migration-Team &lt;/O=ENRON/OU=NA/CN=RECI...</td>\n",
       "      <td></td>\n",
       "      <td></td>\n",
       "      <td></td>\n",
       "      <td>contacts</td>\n",
       "      <td>pallen (Non-Privileged).pst</td>\n",
       "      <td>[loan, servic, jessica, weeber, jweeber, spban...</td>\n",
       "    </tr>\n",
       "    <tr>\n",
       "      <th>1231</th>\n",
       "      <td>Mon, 23 Oct 2000 08:55:00 -0700 (PDT)</td>\n",
       "      <td>phillip.allen@enron.com</td>\n",
       "      <td>phillip.allen@enron.com, robina.barker-bennett...</td>\n",
       "      <td></td>\n",
       "      <td>Outlook-Migration-Team &lt;/O=ENRON/OU=NA/CN=RECI...</td>\n",
       "      <td></td>\n",
       "      <td></td>\n",
       "      <td></td>\n",
       "      <td>contacts</td>\n",
       "      <td>pallen (Non-Privileged).pst</td>\n",
       "      <td>[exit, mccollough]</td>\n",
       "    </tr>\n",
       "    <tr>\n",
       "      <th>3026</th>\n",
       "      <td>Wed, 6 Dec 2000 04:43:00 -0800 (PST)</td>\n",
       "      <td>phillip.allen@enron.com</td>\n",
       "      <td>richard.morgan@austinenergy.com</td>\n",
       "      <td>RE:</td>\n",
       "      <td>bobregon@bga.com</td>\n",
       "      <td>list</td>\n",
       "      <td></td>\n",
       "      <td></td>\n",
       "      <td>straw</td>\n",
       "      <td>pallen.nsf</td>\n",
       "      <td>[hi, all, we, look, wheat, farmer, near, austi...</td>\n",
       "    </tr>\n",
       "    <tr>\n",
       "      <th>3027</th>\n",
       "      <td>Mon, 25 Sep 2000 05:47:00 -0700 (PDT)</td>\n",
       "      <td>phillip.allen@enron.com</td>\n",
       "      <td>gthorse@keyad.com</td>\n",
       "      <td>RE:</td>\n",
       "      <td>rob_tom@freenet.carleton.ca (Robert W. Tom)</td>\n",
       "      <td>CALXA</td>\n",
       "      <td>strawbale@crest.org</td>\n",
       "      <td></td>\n",
       "      <td>straw</td>\n",
       "      <td>pallen.nsf</td>\n",
       "      <td>[cc, strawbal, crest, org, bcc, strawbal, cres...</td>\n",
       "    </tr>\n",
       "    <tr>\n",
       "      <th>3028</th>\n",
       "      <td>Fri, 22 Sep 2000 00:06:00 -0700 (PDT)</td>\n",
       "      <td>phillip.allen@enron.com</td>\n",
       "      <td>monica.l.brown@accenture.com</td>\n",
       "      <td></td>\n",
       "      <td>CALXA@aol.com</td>\n",
       "      <td>strawbale</td>\n",
       "      <td>moore.john.e@worldnet.att.net (John E. Moore)</td>\n",
       "      <td></td>\n",
       "      <td>straw</td>\n",
       "      <td>pallen.nsf</td>\n",
       "      <td>[cc, moor, john, worldnet, att, net, bcc, moor...</td>\n",
       "    </tr>\n",
       "  </tbody>\n",
       "</table>\n",
       "</div>"
      ],
      "text/plain": [
       "                                       date           sender_address  \\\n",
       "1230  Tue, 24 Oct 2000 05:16:00 -0700 (PDT)  phillip.allen@enron.com   \n",
       "1231  Mon, 23 Oct 2000 08:55:00 -0700 (PDT)  phillip.allen@enron.com   \n",
       "3026   Wed, 6 Dec 2000 04:43:00 -0800 (PST)  phillip.allen@enron.com   \n",
       "3027  Mon, 25 Sep 2000 05:47:00 -0700 (PDT)  phillip.allen@enron.com   \n",
       "3028  Fri, 22 Sep 2000 00:06:00 -0700 (PDT)  phillip.allen@enron.com   \n",
       "\n",
       "                                              recipient  \\\n",
       "1230  Cheryl Wilchynski/HR/Corp/Enron@ENRON, Cindy R...   \n",
       "1231  phillip.allen@enron.com, robina.barker-bennett...   \n",
       "3026                    richard.morgan@austinenergy.com   \n",
       "3027                                  gthorse@keyad.com   \n",
       "3028                       monica.l.brown@accenture.com   \n",
       "\n",
       "                                               subject  \\\n",
       "1230   \"\"Save the Date\"\" - Associate / Analyst Program   \n",
       "1231                                                     \n",
       "3026                                               RE:   \n",
       "3027                                               RE:   \n",
       "3028                                                     \n",
       "\n",
       "                                            sender_name recipient_name  \\\n",
       "1230  Outlook-Migration-Team </O=ENRON/OU=NA/CN=RECI...                  \n",
       "1231  Outlook-Migration-Team </O=ENRON/OU=NA/CN=RECI...                  \n",
       "3026                                   bobregon@bga.com          list    \n",
       "3027        rob_tom@freenet.carleton.ca (Robert W. Tom)          CALXA   \n",
       "3028                                      CALXA@aol.com      strawbale   \n",
       "\n",
       "                                                 cc bcc    folder  \\\n",
       "1230                                                     contacts   \n",
       "1231                                                     contacts   \n",
       "3026                                                        straw   \n",
       "3027                            strawbale@crest.org         straw   \n",
       "3028  moore.john.e@worldnet.att.net (John E. Moore)         straw   \n",
       "\n",
       "                         filename  \\\n",
       "1230  pallen (Non-Privileged).pst   \n",
       "1231  pallen (Non-Privileged).pst   \n",
       "3026                   pallen.nsf   \n",
       "3027                   pallen.nsf   \n",
       "3028                   pallen.nsf   \n",
       "\n",
       "                                                   body  \n",
       "1230  [loan, servic, jessica, weeber, jweeber, spban...  \n",
       "1231                                 [exit, mccollough]  \n",
       "3026  [hi, all, we, look, wheat, farmer, near, austi...  \n",
       "3027  [cc, strawbal, crest, org, bcc, strawbal, cres...  \n",
       "3028  [cc, moor, john, worldnet, att, net, bcc, moor...  "
      ]
     },
     "execution_count": 4,
     "metadata": {},
     "output_type": "execute_result"
    }
   ],
   "source": [
    "def clean_body_text(body):\n",
    "    tokenizer = RegexpTokenizer(r'\\w+')\n",
    "    # Create English stop words list\n",
    "    en_stop_words = get_stop_words('en')\n",
    "    p_stemmer = PorterStemmer()\n",
    "    # Remove all numbers, remove structural words, and remove stop words\n",
    "    def filter_body(x):\n",
    "        if (not (x.isdigit() or x[0] == '-' and x[1:].isdigit())) and len(x) > 1 and 'http' not in x and x not in \"_\" and x not in en_stop_words:\n",
    "            return True\n",
    "\n",
    "    # Clean and tokenize document string\n",
    "    tokens = filter(filter_body, tokenizer.tokenize(body))\n",
    "    # Lowercase all text\n",
    "    tokens = [x.lower() for x in tokens]\n",
    "    # Stem tokens\n",
    "    return [p_stemmer.stem(unicode(i, errors='ignore')) for i in tokens]\n",
    "\n",
    "email_data['body'] = email_data['body'].apply(clean_body_text)\n",
    "\n",
    "# Examine email data after cleansing bodies\n",
    "email_data.head()"
   ]
  },
  {
   "cell_type": "markdown",
   "metadata": {},
   "source": [
    "# 1. Supervised Learning: Per-User Auto-Sorting"
   ]
  },
  {
   "cell_type": "markdown",
   "metadata": {},
   "source": [
    "We will now use supervised learning techniques to predict which folders users are most likely to sort their emails into."
   ]
  },
  {
   "cell_type": "markdown",
   "metadata": {},
   "source": [
    "## Feature Engineering"
   ]
  },
  {
   "cell_type": "markdown",
   "metadata": {},
   "source": [
    "### Filter out system folders that are not relevent for sort predictions"
   ]
  },
  {
   "cell_type": "markdown",
   "metadata": {},
   "source": [
    "While the original data set contained 500K emails, most users do not sort their emails into custom user defined folders. Most users simply leave emails in system-defined folders. For this section, we'll omit any emails in these folders."
   ]
  },
  {
   "cell_type": "code",
   "execution_count": 3,
   "metadata": {},
   "outputs": [
    {
     "name": "stdout",
     "output_type": "stream",
     "text": [
      "Number of emails in the dataset after filtering folders: 73051\n"
     ]
    },
    {
     "data": {
      "text/html": [
       "<div>\n",
       "<style scoped>\n",
       "    .dataframe tbody tr th:only-of-type {\n",
       "        vertical-align: middle;\n",
       "    }\n",
       "\n",
       "    .dataframe tbody tr th {\n",
       "        vertical-align: top;\n",
       "    }\n",
       "\n",
       "    .dataframe thead th {\n",
       "        text-align: right;\n",
       "    }\n",
       "</style>\n",
       "<table border=\"1\" class=\"dataframe\">\n",
       "  <thead>\n",
       "    <tr style=\"text-align: right;\">\n",
       "      <th></th>\n",
       "      <th>date</th>\n",
       "      <th>sender_address</th>\n",
       "      <th>recipient</th>\n",
       "      <th>subject</th>\n",
       "      <th>sender_name</th>\n",
       "      <th>recipient_name</th>\n",
       "      <th>cc</th>\n",
       "      <th>bcc</th>\n",
       "      <th>folder</th>\n",
       "      <th>filename</th>\n",
       "      <th>body</th>\n",
       "    </tr>\n",
       "  </thead>\n",
       "  <tbody>\n",
       "    <tr>\n",
       "      <th>1230</th>\n",
       "      <td>Tue, 24 Oct 2000 05:16:00 -0700 (PDT)</td>\n",
       "      <td>phillip.allen@enron.com</td>\n",
       "      <td>Cheryl Wilchynski/HR/Corp/Enron@ENRON, Cindy R...</td>\n",
       "      <td>\"\"Save the Date\"\" - Associate / Analyst Program</td>\n",
       "      <td>Outlook-Migration-Team &lt;/O=ENRON/OU=NA/CN=RECI...</td>\n",
       "      <td></td>\n",
       "      <td></td>\n",
       "      <td></td>\n",
       "      <td>contacts</td>\n",
       "      <td>pallen (Non-Privileged).pst</td>\n",
       "      <td>\\n\\nloan servicing-jessica weeber 800-393-5626...</td>\n",
       "    </tr>\n",
       "    <tr>\n",
       "      <th>1231</th>\n",
       "      <td>Mon, 23 Oct 2000 08:55:00 -0700 (PDT)</td>\n",
       "      <td>phillip.allen@enron.com</td>\n",
       "      <td>phillip.allen@enron.com, robina.barker-bennett...</td>\n",
       "      <td></td>\n",
       "      <td>Outlook-Migration-Team &lt;/O=ENRON/OU=NA/CN=RECI...</td>\n",
       "      <td></td>\n",
       "      <td></td>\n",
       "      <td></td>\n",
       "      <td>contacts</td>\n",
       "      <td>pallen (Non-Privileged).pst</td>\n",
       "      <td>\\n\\nexit mccollough off 410\"\\n</td>\n",
       "    </tr>\n",
       "    <tr>\n",
       "      <th>3026</th>\n",
       "      <td>Wed, 6 Dec 2000 04:43:00 -0800 (PST)</td>\n",
       "      <td>phillip.allen@enron.com</td>\n",
       "      <td>richard.morgan@austinenergy.com</td>\n",
       "      <td>RE:</td>\n",
       "      <td>bobregon@bga.com</td>\n",
       "      <td>list</td>\n",
       "      <td></td>\n",
       "      <td></td>\n",
       "      <td>straw</td>\n",
       "      <td>pallen.nsf</td>\n",
       "      <td>\\n\\nHi All\\n\\nWe are looking for a wheat farme...</td>\n",
       "    </tr>\n",
       "    <tr>\n",
       "      <th>3027</th>\n",
       "      <td>Mon, 25 Sep 2000 05:47:00 -0700 (PDT)</td>\n",
       "      <td>phillip.allen@enron.com</td>\n",
       "      <td>gthorse@keyad.com</td>\n",
       "      <td>RE:</td>\n",
       "      <td>rob_tom@freenet.carleton.ca (Robert W. Tom)</td>\n",
       "      <td>CALXA</td>\n",
       "      <td>strawbale@crest.org</td>\n",
       "      <td></td>\n",
       "      <td>straw</td>\n",
       "      <td>pallen.nsf</td>\n",
       "      <td>\\nCc: strawbale@crest.org\\nBcc: strawbale@cres...</td>\n",
       "    </tr>\n",
       "    <tr>\n",
       "      <th>3028</th>\n",
       "      <td>Fri, 22 Sep 2000 00:06:00 -0700 (PDT)</td>\n",
       "      <td>phillip.allen@enron.com</td>\n",
       "      <td>monica.l.brown@accenture.com</td>\n",
       "      <td></td>\n",
       "      <td>CALXA@aol.com</td>\n",
       "      <td>strawbale</td>\n",
       "      <td>moore.john.e@worldnet.att.net (John E. Moore)</td>\n",
       "      <td></td>\n",
       "      <td>straw</td>\n",
       "      <td>pallen.nsf</td>\n",
       "      <td>\\nCc: moore.john.e@worldnet.att.net\\nBcc: moor...</td>\n",
       "    </tr>\n",
       "  </tbody>\n",
       "</table>\n",
       "</div>"
      ],
      "text/plain": [
       "                                       date           sender_address  \\\n",
       "1230  Tue, 24 Oct 2000 05:16:00 -0700 (PDT)  phillip.allen@enron.com   \n",
       "1231  Mon, 23 Oct 2000 08:55:00 -0700 (PDT)  phillip.allen@enron.com   \n",
       "3026   Wed, 6 Dec 2000 04:43:00 -0800 (PST)  phillip.allen@enron.com   \n",
       "3027  Mon, 25 Sep 2000 05:47:00 -0700 (PDT)  phillip.allen@enron.com   \n",
       "3028  Fri, 22 Sep 2000 00:06:00 -0700 (PDT)  phillip.allen@enron.com   \n",
       "\n",
       "                                              recipient  \\\n",
       "1230  Cheryl Wilchynski/HR/Corp/Enron@ENRON, Cindy R...   \n",
       "1231  phillip.allen@enron.com, robina.barker-bennett...   \n",
       "3026                    richard.morgan@austinenergy.com   \n",
       "3027                                  gthorse@keyad.com   \n",
       "3028                       monica.l.brown@accenture.com   \n",
       "\n",
       "                                               subject  \\\n",
       "1230   \"\"Save the Date\"\" - Associate / Analyst Program   \n",
       "1231                                                     \n",
       "3026                                               RE:   \n",
       "3027                                               RE:   \n",
       "3028                                                     \n",
       "\n",
       "                                            sender_name recipient_name  \\\n",
       "1230  Outlook-Migration-Team </O=ENRON/OU=NA/CN=RECI...                  \n",
       "1231  Outlook-Migration-Team </O=ENRON/OU=NA/CN=RECI...                  \n",
       "3026                                   bobregon@bga.com          list    \n",
       "3027        rob_tom@freenet.carleton.ca (Robert W. Tom)          CALXA   \n",
       "3028                                      CALXA@aol.com      strawbale   \n",
       "\n",
       "                                                 cc bcc    folder  \\\n",
       "1230                                                     contacts   \n",
       "1231                                                     contacts   \n",
       "3026                                                        straw   \n",
       "3027                            strawbale@crest.org         straw   \n",
       "3028  moore.john.e@worldnet.att.net (John E. Moore)         straw   \n",
       "\n",
       "                         filename  \\\n",
       "1230  pallen (Non-Privileged).pst   \n",
       "1231  pallen (Non-Privileged).pst   \n",
       "3026                   pallen.nsf   \n",
       "3027                   pallen.nsf   \n",
       "3028                   pallen.nsf   \n",
       "\n",
       "                                                   body  \n",
       "1230  \\n\\nloan servicing-jessica weeber 800-393-5626...  \n",
       "1231                     \\n\\nexit mccollough off 410\"\\n  \n",
       "3026  \\n\\nHi All\\n\\nWe are looking for a wheat farme...  \n",
       "3027  \\nCc: strawbale@crest.org\\nBcc: strawbale@cres...  \n",
       "3028  \\nCc: moore.john.e@worldnet.att.net\\nBcc: moor...  "
      ]
     },
     "execution_count": 3,
     "metadata": {},
     "output_type": "execute_result"
    }
   ],
   "source": [
    "# Remove folders that are most likely computer generated\n",
    "filtered_email_data = email_data[\n",
    "    (email_data.folder != '_sent_mail') &\n",
    "    (email_data.folder != 'all_documents') &\n",
    "    (email_data.folder != 'deleted_items') &\n",
    "    (email_data.folder != 'inbox') &\n",
    "    (email_data.folder != 'discussion_threads') &\n",
    "    (email_data.folder != 'notes_inbox') &\n",
    "    (email_data.folder != 'sent_items') &\n",
    "    (email_data.folder != 'sent')\n",
    "]\n",
    "\n",
    "print 'Number of emails in the dataset after filtering folders: {}'.format(filtered_email_data.shape[0])\n",
    "\n",
    "# Examine filtered email data\n",
    "filtered_email_data.head()"
   ]
  },
  {
   "cell_type": "markdown",
   "metadata": {},
   "source": [
    "### Drop unusable rows, create a new people column"
   ]
  },
  {
   "cell_type": "markdown",
   "metadata": {},
   "source": [
    "Next, we'll construct the features to be used in our models. One such feature is the people included in the email. Rather than construct individual features for each of the To, From, CC, and BCC lines, we'll model a single feature that includes all people in the email."
   ]
  },
  {
   "cell_type": "code",
   "execution_count": 6,
   "metadata": {},
   "outputs": [],
   "source": [
    "# Drop rows without subject or body\n",
    "filtered_email_data = filtered_email_data.dropna(subset=['subject', 'body'])\n",
    "\n",
    "# Create a new \"people\" column that combines CC, BCC, Sender Address, and Recipient\n",
    "filtered_email_data['cc'].fillna('', inplace=True)\n",
    "filtered_email_data['bcc'].fillna('', inplace=True)\n",
    "filtered_email_data['sender_address'].fillna('', inplace=True)\n",
    "filtered_email_data['recipient'].fillna('', inplace=True)\n",
    "filtered_email_data['people'] = filtered_email_data['sender_address'] + ',' + filtered_email_data['cc'] + ',' + filtered_email_data['bcc'] + ',' + filtered_email_data['recipient']"
   ]
  },
  {
   "cell_type": "markdown",
   "metadata": {},
   "source": [
    "### Segment data by recipient, to train one model per-user"
   ]
  },
  {
   "cell_type": "markdown",
   "metadata": {},
   "source": [
    "Before creating our models, we now need to segment the data set into individual data sets (one per user). This will allow us to construct one model per user in the Enron data set."
   ]
  },
  {
   "cell_type": "code",
   "execution_count": 7,
   "metadata": {},
   "outputs": [
    {
     "name": "stdout",
     "output_type": "stream",
     "text": [
      "Number of users in the data set: 267\n"
     ]
    }
   ],
   "source": [
    "# Create a new \"user\" column by extracting data from the filename feature\n",
    "def extract_user(text):\n",
    "    m = re.search(r'^([^\\. ]*)[\\. ]', text)\n",
    "    if m:\n",
    "        return m.group(1)\n",
    "    return ''\n",
    "\n",
    "filtered_email_data['user'] = filtered_email_data['filename'].apply(extract_user)\n",
    "\n",
    "# Group dataset by user\n",
    "user_groups = filtered_email_data.groupby('user')\n",
    "users = user_groups.groups.keys()\n",
    "\n",
    "print 'Number of users in the data set: ' + str(len(users))"
   ]
  },
  {
   "cell_type": "markdown",
   "metadata": {},
   "source": [
    "### Run per-user logistic regression, record accuracy\n",
    "\n",
    "Our first model will be a logistic regression model. For each user, we transform the subject of the email and the people in the email into a vectorized feature matrix. This allows each user to have their own custom vocabulary, specific to their mailbox. For each user, we record the accuracy of the Logistic Regression classifier for further analysis."
   ]
  },
  {
   "cell_type": "code",
   "execution_count": 12,
   "metadata": {},
   "outputs": [
    {
     "name": "stdout",
     "output_type": "stream",
     "text": [
      "\n",
      "\n",
      "Total number of users analyzed: 97\n",
      "Average accuracy for Logistic Regression: 0.51063628577788\n"
     ]
    },
    {
     "data": {
      "image/png": "[encoded data removed]",
      "text/plain": [
       "<Figure size 432x288 with 1 Axes>"
      ]
     },
     "metadata": {},
     "output_type": "display_data"
    },
    {
     "data": {
      "image/png": "[encoded data removed]",
      "text/plain": [
       "<Figure size 432x288 with 1 Axes>"
      ]
     },
     "metadata": {},
     "output_type": "display_data"
    },
    {
     "data": {
      "image/png": "[encoded data removed]",
      "text/plain": [
       "<Figure size 432x288 with 1 Axes>"
      ]
     },
     "metadata": {},
     "output_type": "display_data"
    },
    {
     "data": {
      "image/png": "[encoded data removed]",
      "text/plain": [
       "<Figure size 432x288 with 1 Axes>"
      ]
     },
     "metadata": {},
     "output_type": "display_data"
    }
   ],
   "source": [
    "def people_tokenizer(s):\n",
    "    people = s.split(',')\n",
    "    return filter(None, people)\n",
    "\n",
    "min_email_threshold = 100\n",
    "\n",
    "num_users = 0\n",
    "accuracies = []\n",
    "num_folders = []\n",
    "num_emails = []\n",
    "for user, emails in user_groups:\n",
    "    # Skip over any users with too few emails to analyze (less than 100)\n",
    "    if len(emails) < min_email_threshold:\n",
    "        continue\n",
    "        \n",
    "    # Perform bag of words vectorization on Subject\n",
    "    sub_vect = CountVectorizer(stop_words='english', lowercase=True)\n",
    "    counts = sub_vect.fit_transform(emails['subject'])\n",
    "\n",
    "    # Convert Subject from booleans to tf-idf values\n",
    "    tfidf_transformer = TfidfTransformer()\n",
    "    tfidf = tfidf_transformer.fit_transform(counts)\n",
    "\n",
    "    # Convert people column into email address counts\n",
    "    people_vec = CountVectorizer(lowercase=True, tokenizer=people_tokenizer)\n",
    "    people_counts = people_vec.fit_transform(emails['people'])\n",
    "\n",
    "    # Merge people counts with subject tf-idf\n",
    "    feature_matrix = scipy.sparse.hstack([people_counts, tfidf])\n",
    "    \n",
    "    # Split into training & test sets\n",
    "    labels_train, labels_test, features_train, features_test = train_test_split(\n",
    "        emails['folder'], feature_matrix, test_size=0.20, random_state=42)\n",
    "\n",
    "    # Run Multiclass Logistic Regression\n",
    "    lr = LogisticRegression(C=0.1)\n",
    "    try:\n",
    "        lr.fit(features_train, labels_train)\n",
    "    \n",
    "    # If a user only has emails in a single folder, a ValueError is raised\n",
    "    # This solver needs samples of at least 2 classes in the data, but the data contains only one class\n",
    "    except ValueError:\n",
    "        continue\n",
    "    test_predict_lr = lr.predict(features_test)\n",
    "    score_lr = accuracy_score(y_true=labels_test, y_pred=test_predict_lr)\n",
    "    \n",
    "    num_users += 1\n",
    "    accuracies.append(score_lr)\n",
    "    num_emails.append(len(emails))\n",
    "    num_folders.append(len(lr.classes_))\n",
    "    \n",
    "print '\\n\\nTotal number of users analyzed: ' + str(num_users)\n",
    "print 'Average accuracy for Logistic Regression: ' + str(np.mean(accuracies))\n",
    "\n",
    "plt.title('Accuracies for all users analyzed')\n",
    "plt.plot(accuracies, 'o')\n",
    "plt.show()\n",
    "\n",
    "plt.title('Accuracy by number of emails per user')\n",
    "plt.plot(num_emails, accuracies, 'o')\n",
    "plt.show()\n",
    "\n",
    "plt.title('Accuracy by number of folders per user')\n",
    "plt.plot(num_folders, accuracies, 'o')\n",
    "plt.show()\n",
    "\n",
    "plt.title('Accuracy by average emails per folder')\n",
    "plt.plot([x/y for x, y in zip(num_emails, num_folders)], accuracies, 'o')\n",
    "plt.show()"
   ]
  },
  {
   "cell_type": "markdown",
   "metadata": {},
   "source": [
    "### Run per-user naive bayes, record accuracy\n",
    "\n",
    "Next, we'll switch our model to a Naive Bayes classifier, following the same process from above, and analyzing the accuracy results."
   ]
  },
  {
   "cell_type": "code",
   "execution_count": 14,
   "metadata": {},
   "outputs": [
    {
     "name": "stdout",
     "output_type": "stream",
     "text": [
      "\n",
      "\n",
      "Total number of users analyzed: 98\n",
      "Average accuracy for Naive Bayes: 0.6152519127779699\n"
     ]
    },
    {
     "data": {
      "image/png": "[encoded data removed]",
      "text/plain": [
       "<Figure size 432x288 with 1 Axes>"
      ]
     },
     "metadata": {},
     "output_type": "display_data"
    },
    {
     "data": {
      "image/png": "[encoded data removed]",
      "text/plain": [
       "<Figure size 432x288 with 1 Axes>"
      ]
     },
     "metadata": {},
     "output_type": "display_data"
    },
    {
     "data": {
      "image/png": "[encoded data removed]",
      "text/plain": [
       "<Figure size 432x288 with 1 Axes>"
      ]
     },
     "metadata": {},
     "output_type": "display_data"
    },
    {
     "data": {
      "image/png": "[encoded data removed]",
      "text/plain": [
       "<Figure size 432x288 with 1 Axes>"
      ]
     },
     "metadata": {},
     "output_type": "display_data"
    }
   ],
   "source": [
    "def people_tokenizer(s):\n",
    "    people = s.split(',')\n",
    "    return filter(None, people)\n",
    "\n",
    "min_email_threshold = 100\n",
    "\n",
    "num_users = 0\n",
    "accuracies = []\n",
    "num_folders = []\n",
    "num_emails = []\n",
    "for user, emails in user_groups:\n",
    "    # Skip over any users with too few emails to analyze (less than 100)\n",
    "    if len(emails) < min_email_threshold:\n",
    "        continue\n",
    "        \n",
    "    # Perform bag of words vectorization on Subject\n",
    "    sub_vect = CountVectorizer(stop_words='english', lowercase=True)\n",
    "    counts = sub_vect.fit_transform(emails['subject'])\n",
    "\n",
    "    # Convert Subject from booleans to tf-idf values\n",
    "    tfidf_transformer = TfidfTransformer()\n",
    "    tfidf = tfidf_transformer.fit_transform(counts)\n",
    "\n",
    "    # Convert people column into email address counts\n",
    "    people_vec = CountVectorizer(lowercase=True, tokenizer=people_tokenizer)\n",
    "    people_counts = people_vec.fit_transform(emails['people'])\n",
    "\n",
    "    # Merge people counts with subject tf-idf\n",
    "    feature_matrix = scipy.sparse.hstack([people_counts, tfidf])\n",
    "    \n",
    "    # Split into training & test sets\n",
    "    labels_train, labels_test, features_train, features_test = train_test_split(\n",
    "        emails['folder'], feature_matrix, test_size=0.20, random_state=42)\n",
    "    \n",
    "    # Run Multinomial Naive Bayes\n",
    "    mnb = MultinomialNB(alpha=0.1)\n",
    "    mnb.fit(features_train, labels_train)\n",
    "    test_predict_mnb = mnb.predict(features_test)\n",
    "    score_mnb = accuracy_score(labels_test, test_predict_mnb)\n",
    "        \n",
    "    num_users += 1\n",
    "    accuracies.append(score_mnb)\n",
    "    num_emails.append(len(emails))\n",
    "    num_folders.append(len(mnb.classes_))\n",
    "    \n",
    "print '\\n\\nTotal number of users analyzed: ' + str(num_users)\n",
    "print 'Average accuracy for Naive Bayes: ' + str(np.mean(accuracies))\n",
    "\n",
    "plt.title('Accuracies for all users analyzed')\n",
    "plt.plot(accuracies, 'o')\n",
    "plt.show()\n",
    "\n",
    "plt.title('Accuracy by number of emails per user')\n",
    "plt.plot(num_emails, accuracies, 'o')\n",
    "plt.show()\n",
    "\n",
    "plt.title('Accuracy by number of folders per user')\n",
    "plt.plot(num_folders, accuracies, 'o')\n",
    "plt.show()\n",
    "\n",
    "plt.title('Accuracy by average emails per folder')\n",
    "plt.plot([x/y for x, y in zip(num_emails, num_folders)], accuracies, 'o')\n",
    "plt.show()"
   ]
  },
  {
   "cell_type": "markdown",
   "metadata": {},
   "source": [
    "### Run per-user models, compare accuracies\n",
    "\n",
    "Finally, we'll try both of the models from the above section, choosing whichever model (Logistic Regression vs. Naive Bayes) works better for that particular user. The purpose of this section is to examine which models work better for certain types of users, and with which frequency a certain model is effective."
   ]
  },
  {
   "cell_type": "code",
   "execution_count": 15,
   "metadata": {},
   "outputs": [
    {
     "name": "stdout",
     "output_type": "stream",
     "text": [
      "\n",
      "\n",
      "Total number of users analyzed: 97\n",
      "Average accuracy: 0.6398781477778984\n"
     ]
    },
    {
     "data": {
      "image/png": "[encoded data removed]",
      "text/plain": [
       "<Figure size 432x288 with 1 Axes>"
      ]
     },
     "metadata": {},
     "output_type": "display_data"
    },
    {
     "data": {
      "image/png": "[encoded data removed]",
      "text/plain": [
       "<Figure size 432x288 with 1 Axes>"
      ]
     },
     "metadata": {},
     "output_type": "display_data"
    }
   ],
   "source": [
    "def people_tokenizer(s):\n",
    "    people = s.split(',')\n",
    "    return filter(None, people)\n",
    "\n",
    "min_email_threshold = 100\n",
    "\n",
    "num_users = 0\n",
    "accuracies = []\n",
    "num_folders = []\n",
    "num_emails = []\n",
    "best_models = []\n",
    "for user, emails in user_groups:\n",
    "    \n",
    "    # Skip over any users with too few emails to analyze (less than 100)\n",
    "    if len(emails) < min_email_threshold:\n",
    "        continue\n",
    "        \n",
    "    # Perform bag of words vectorization on Subject\n",
    "    sub_vect = CountVectorizer(stop_words='english', lowercase=True)\n",
    "    counts = sub_vect.fit_transform(emails['subject'])\n",
    "\n",
    "    # Convert Subject from booleans to tf-idf values\n",
    "    tfidf_transformer = TfidfTransformer()\n",
    "    tfidf = tfidf_transformer.fit_transform(counts)\n",
    "\n",
    "    # Convert people column into email address counts\n",
    "    people_vec = CountVectorizer(lowercase=True, tokenizer=people_tokenizer)\n",
    "    people_counts = people_vec.fit_transform(emails['people'])\n",
    "\n",
    "    # Merge people counts with subject tf-idf\n",
    "    feature_matrix = scipy.sparse.hstack([people_counts, tfidf])\n",
    "    \n",
    "    # Split into training & test sets\n",
    "    labels_train, labels_test, features_train, features_test = train_test_split(\n",
    "        emails['folder'], feature_matrix, test_size=0.20, random_state=42)\n",
    "\n",
    "    # Run Multiclass Logistic Regression\n",
    "    lr = LogisticRegression(C=0.1)\n",
    "    try:\n",
    "        lr.fit(features_train, labels_train)\n",
    "    \n",
    "    # If a user only has emails in a single folder, a ValueError is raised\n",
    "    # This solver needs samples of at least 2 classes in the data, but the data contains only one class\n",
    "    except ValueError:\n",
    "        continue\n",
    "    test_predict_lr = lr.predict(features_test)\n",
    "    score_lr = accuracy_score(y_true=labels_test, y_pred=test_predict_lr)\n",
    "    \n",
    "    # Run Multinomial Naive Bayes\n",
    "    mnb = MultinomialNB(alpha=0.1)\n",
    "    mnb.fit(features_train, labels_train)\n",
    "    test_predict_mnb = mnb.predict(features_test)\n",
    "    score_mnb = accuracy_score(labels_test, test_predict_mnb)\n",
    "    \n",
    "    # Use model accuracy to determine whether to use Logistic Regression or Naive Bayes\n",
    "    best_models.append((0 if score_lr > score_mnb else 1))    \n",
    "        \n",
    "    num_users += 1\n",
    "    accuracies.append((score_lr if score_lr > score_mnb else score_mnb))\n",
    "    num_emails.append(len(emails))\n",
    "    num_folders.append(len(mnb.classes_))\n",
    "    \n",
    "print '\\n\\nTotal number of users analyzed: ' + str(num_users)\n",
    "print 'Average accuracy: ' + str(np.mean(accuracies))\n",
    "\n",
    "plt.title('Accuracies for all users analyzed')\n",
    "plt.plot(accuracies, 'o')\n",
    "plt.show()\n",
    "\n",
    "plt.title('Users by best model (accuracy)')\n",
    "plt.hist(best_models)\n",
    "plt.show()"
   ]
  },
  {
   "cell_type": "markdown",
   "metadata": {},
   "source": [
    "From the results of the different supervised techniques above, we can see the following:\n",
    "- Using a combination of Logistic Regression and Naive Bayes to predict a user's email sorting behavior appears to result in the best performance (around 64% accuracy)\n",
    "- For most users (around 75 out of 97 total analyzed), Naive Bayes is more accurate in predicting sorting behavior\n",
    "- There is a definite trend showing that the more emails per folder a user has, the more accurate the model predictions are. Given this information, it is reasonable to assume that if we had users with more emails in our dataset, our accuracies should have improved"
   ]
  },
  {
   "cell_type": "markdown",
   "metadata": {},
   "source": [
    "# Unsupervised Learning: Topic Modeling\n",
    "\n",
    "In this section, we will use an Unsupervised Learning technique (Topic Modeling) to further explore our dataset. Focusing on the email bodies, we can use the topics produced by the topic model to identify patterns that emerge from the email corpus."
   ]
  },
  {
   "cell_type": "code",
   "execution_count": 23,
   "metadata": {},
   "outputs": [
    {
     "name": "stdout",
     "output_type": "stream",
     "text": [
      "\n",
      "Topic ID: 0\n",
      " Topic Terms and Probabilities: 0.127*\"ect\" + 0.064*\"hou\" + 0.046*\"ee\" + 0.024*\"pm\" + 0.024*\"cc\" + 0.023*\"enron_develop\" + 0.019*\"corp\" + 0.019*\"am\" + 0.016*\"enronxg\" + 0.015*\"forward\"\n",
      "\n",
      "Topic ID: 1\n",
      " Topic Terms and Probabilities: 0.014*\"will\" + 0.013*\"pleas\" + 0.012*\"messag\" + 0.010*\"cc\" + 0.010*\"thank\" + 0.009*\"sent\" + 0.008*\"origin\" + 0.008*\"pm\" + 0.008*\"to\" + 0.008*\"subject\"\n",
      "\n",
      "Topic ID: 2\n",
      " Topic Terms and Probabilities: 0.024*\"power\" + 0.020*\"energi\" + 0.014*\"the\" + 0.013*\"california\" + 0.013*\"market\" + 0.012*\"price\" + 0.011*\"electr\" + 0.010*\"state\" + 0.009*\"util\" + 0.008*\"ga\"\n",
      "\n",
      "Topic ID: 3\n",
      " Topic Terms and Probabilities: 0.009*\"the\" + 0.008*\"get\" + 0.008*\"said\" + 0.007*\"one\" + 0.007*\"go\" + 0.007*\"will\" + 0.007*\"week\" + 0.006*\"time\" + 0.006*\"can\" + 0.006*\"year\"\n",
      "\n",
      "Topic ID: 4\n",
      " Topic Terms and Probabilities: 0.248*\"cn\" + 0.128*\"recipi\" + 0.123*\"na\" + 0.117*\"ou\" + 0.064*\"enron\" + 0.012*\"notesaddr\" + 0.006*\"bcc\" + 0.006*\"pdavis1\" + 0.004*\"cc\" + 0.002*\"mvc\"\n",
      "\n",
      "Topic ID: 5\n",
      " Topic Terms and Probabilities: 0.189*\"com\" + 0.025*\"mail\" + 0.022*\"ca\" + 0.015*\"br\" + 0.013*\"gov\" + 0.012*\"net\" + 0.012*\"org\" + 0.011*\"energi\" + 0.010*\"aol\" + 0.010*\"us\"\n",
      "\n",
      "Topic ID: 6\n",
      " Topic Terms and Probabilities: 0.223*\"enron\" + 0.196*\"com\" + 0.008*\"mark\" + 0.008*\"john\" + 0.006*\"michael\" + 0.005*\"william\" + 0.004*\"david\" + 0.004*\"richard\" + 0.004*\"jeff\" + 0.004*\"bill\"\n",
      "\n",
      "Topic ID: 7\n",
      " Topic Terms and Probabilities: 0.026*\"enron\" + 0.019*\"will\" + 0.011*\"trade\" + 0.010*\"compani\" + 0.010*\"the\" + 0.009*\"market\" + 0.009*\"manag\" + 0.008*\"busi\" + 0.007*\"new\" + 0.006*\"servic\"\n",
      "\n",
      "Topic ID: 8\n",
      " Topic Terms and Probabilities: 0.041*\"com\" + 0.027*\"www\" + 0.009*\"imag\" + 0.008*\"to\" + 0.007*\"onlin\" + 0.007*\"click\" + 0.007*\"powermarket\" + 0.006*\"asp\" + 0.006*\"free\" + 0.006*\"you\"\n",
      "\n",
      "Topic ID: 9\n",
      " Topic Terms and Probabilities: 0.155*\"enron\" + 0.127*\"com\" + 0.010*\"team\" + 0.009*\"et\" + 0.008*\"kimberli\" + 0.008*\"watson\" + 0.008*\"mmbtu\" + 0.007*\"ga\" + 0.007*\"michel\" + 0.006*\"tw\"\n",
      "\n",
      "\n",
      "The top three most frequently occurring topics (seen as term groupings) taken from the email body corpus are: \n",
      "\n",
      "['will', 'pleas', 'messag', 'cc', 'thank', 'sent', 'origin', 'pm', 'to', 'subject']\n",
      "['enron', 'com', 'mark', 'john', 'michael', 'william', 'david', 'richard', 'jeff', 'bill']\n",
      "['enron', 'will', 'trade', 'compani', 'the', 'market', 'manag', 'busi', 'new', 'servic']\n"
     ]
    }
   ],
   "source": [
    "email_bodies = filtered_email_data['body'].tolist()\n",
    "\n",
    "# Create a term dictionary from our email body corpus\n",
    "dictionary = gensim.corpora.Dictionary(email_bodies)\n",
    "\n",
    "# Convert corpus into Document Term Matrix using term dictionary\n",
    "doc_term_matrix = [dictionary.doc2bow(body) for body in email_bodies]\n",
    "\n",
    "# Run an LDA Topic Model with 10 topics\n",
    "lda_model = gensim.models.ldamodel.LdaModel(doc_term_matrix, num_topics=10, id2word=dictionary, passes=20, minimum_probability=0)\n",
    "\n",
    "topic_term_mapping = dict(lda_model.show_topics())\n",
    "\n",
    "for topic_id in topic_term_mapping:\n",
    "    print '\\nTopic ID: {}\\n Topic Terms and Probabilities: {}'.format(topic_id, topic_term_mapping[topic_id])\n",
    "\n",
    "# For each email, assign topic with highest probability from each topic distribution\n",
    "email_topics = []\n",
    "for doc in doc_term_matrix:\n",
    "    topic_distribution = lda_model.get_document_topics(doc)\n",
    "    email_topics.append(max(topic_distribution, key=lambda item: item[1])[0])\n",
    "\n",
    "# Find top three most frequently occurring topics from email body corpus\n",
    "topic_data = pandas.DataFrame(email_topics, columns = ['topic_label'])\n",
    "top_three_topic_ids = topic_data[['topic_label']].groupby(['topic_label'])['topic_label']\\\n",
    "    .count()\\\n",
    "    .reset_index(name='count')\\\n",
    "    .sort_values(['count'], ascending=False)\\\n",
    "    .head(3)['topic_label']\\\n",
    "    .tolist()\n",
    "\n",
    "top_three_topics_raw = [topic_term_mapping[topic_id] for topic_id in top_three_topic_ids]\n",
    "top_three_topics = []                                                                                      \n",
    "for raw_topic in top_three_topics_raw:                                                                               \n",
    "    top_three_topics.append(str([str(term.split('*')[1].replace('\"', '')) for term in raw_topic.split(' + ')]))\n",
    "\n",
    "print '\\n\\nThe top three most frequently occurring topics (seen as term groupings) taken from the email body corpus are: \\n\\n{}'.format('\\n'.join(top_three_topics))"
   ]
  }
 ],
 "metadata": {
  "kernelspec": {
   "display_name": "Python 3",
   "language": "python",
   "name": "python3"
  },
  "language_info": {
   "codemirror_mode": {
    "name": "ipython",
    "version": 3
   },
   "file_extension": ".py",
   "mimetype": "text/x-python",
   "name": "python",
   "nbconvert_exporter": "python",
   "pygments_lexer": "ipython3",
   "version": "3.7.3"
  }
 },
 "nbformat": 4,
 "nbformat_minor": 2
}
